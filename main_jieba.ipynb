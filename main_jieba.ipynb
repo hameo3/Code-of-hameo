{
 "cells": [
  {
   "cell_type": "markdown",
   "id": "0af52210-81cc-4683-8bbc-22b3faae79b5",
   "metadata": {},
   "source": [
    "#结巴分词实践"
   ]
  },
  {
   "cell_type": "markdown",
   "id": "ab9f5e63-ea20-4f44-b448-b459208167e3",
   "metadata": {},
   "source": [
    "##结巴分词的三种模式"
   ]
  },
  {
   "cell_type": "markdown",
   "id": "c8d4e283-4154-452b-b11a-207e9dce672f",
   "metadata": {},
   "source": [
    "###全模式"
   ]
  },
  {
   "cell_type": "code",
   "execution_count": 18,
   "id": "03d9356a-2426-47f0-b860-948c13aca5b4",
   "metadata": {},
   "outputs": [
    {
     "name": "stdout",
     "output_type": "stream",
     "text": [
      "Full Mode: 我/ 来到/ 北京/ 清华/ 清华大学/ 华大/ 大学\n"
     ]
    }
   ],
   "source": [
    "import jieba\n",
    "strs=[\"我来到北京清华大学\",\"乒乓球拍卖完了\",\"中国科学技术大学\"]\n",
    "seg_list = jieba.cut(\"我来到北京清华大学\", cut_all=True)\n",
    "print(\"Full Mode: \" + \"/ \".join(seg_list))  # 全模式"
   ]
  },
  {
   "cell_type": "markdown",
   "id": "5cb85e16-dae6-4069-b6db-60a478c97069",
   "metadata": {},
   "source": [
    "###精确模式"
   ]
  },
  {
   "cell_type": "code",
   "execution_count": 17,
   "id": "998143f6-414e-4a04-bee8-1e6304161348",
   "metadata": {},
   "outputs": [
    {
     "name": "stdout",
     "output_type": "stream",
     "text": [
      "Default Mode: 我/ 来到/ 北京/ 清华大学\n"
     ]
    }
   ],
   "source": [
    "seg_list = jieba.cut(\"我来到北京清华大学\", cut_all=False)\n",
    "print(\"Default Mode: \" + \"/ \".join(seg_list))  # 精确模式"
   ]
  },
  {
   "cell_type": "markdown",
   "id": "af179051-ac9a-4ddd-9424-c4d4f8f1432f",
   "metadata": {},
   "source": [
    "###搜索引擎模式"
   ]
  },
  {
   "cell_type": "code",
   "execution_count": 16,
   "id": "f77c76e7-f46c-48c0-99d5-a864bbd1ecc0",
   "metadata": {},
   "outputs": [
    {
     "name": "stdout",
     "output_type": "stream",
     "text": [
      "小明, 硕士, 毕业, 于, 中国, 科学, 学院, 科学院, 中国科学院, 计算, 计算所, ，, 后, 在, 日本, 京都, 大学, 日本京都大学, 深造\n"
     ]
    }
   ],
   "source": [
    "seg_list = jieba.cut_for_search(\"小明硕士毕业于中国科学院计算所，后在日本京都大学深造\")  # 搜索引擎模式\n",
    "print(\", \".join(seg_list))"
   ]
  },
  {
   "cell_type": "markdown",
   "id": "757f53a6-b300-4579-a2a1-f3846574681c",
   "metadata": {},
   "source": [
    "##载入词典"
   ]
  },
  {
   "cell_type": "code",
   "execution_count": 24,
   "id": "bef10329-a07c-4b72-aa75-0b195169e4b9",
   "metadata": {},
   "outputs": [
    {
     "name": "stdout",
     "output_type": "stream",
     "text": [
      "Default Mode: 乔家琪/ 即将/ 是/ 自然语言/ 处理/ 方面/ 的/ 高手\n"
     ]
    }
   ],
   "source": [
    "jieba.load_userdict(\"userdict.txt\")\n",
    "seg_list = jieba.cut(\"乔家琪即将是自然语言处理方面的高手\",cut_all=False,HMM=False)\n",
    "print(\"Default Mode: \" + \"/ \".join(seg_list))"
   ]
  },
  {
   "cell_type": "markdown",
   "id": "c186cb57-a6dc-409c-97e4-4f13b4ab543b",
   "metadata": {},
   "source": [
    "##关键词提取实践"
   ]
  },
  {
   "cell_type": "code",
   "execution_count": null,
   "id": "bda392ed-0dee-4186-903b-69a63412460d",
   "metadata": {},
   "outputs": [],
   "source": [
    "import jieba\n",
    "import jieba.analyse\n",
    "\n",
    "# 给定的句子\n",
    "sentence = \"燕山大学是河北省人民政府、教育部、工业和信息化部、国家国防科技工业局四方共建的全国重点大学，河北省重点支持的国家一流大学和世界一流学科建设高校，北京高科大学联盟成员。\"\n",
    "\n",
    "# 使用 TextRank 算法提取前 5 个关键词\n",
    "keywords = jieba.analyse.textrank(sentence, topK=5, withWeight=False)\n",
    "\n",
    "print(\"提取的前 5 个关键词：\", keywords)"
   ]
  },
  {
   "cell_type": "code",
   "execution_count": null,
   "id": "403f8da0-7431-43bc-9640-f576b4738b62",
   "metadata": {},
   "outputs": [],
   "source": []
  }
 ],
 "metadata": {
  "kernelspec": {
   "display_name": "Python 3 (ipykernel)",
   "language": "python",
   "name": "python3"
  },
  "language_info": {
   "codemirror_mode": {
    "name": "ipython",
    "version": 3
   },
   "file_extension": ".py",
   "mimetype": "text/x-python",
   "name": "python",
   "nbconvert_exporter": "python",
   "pygments_lexer": "ipython3",
   "version": "3.12.7"
  }
 },
 "nbformat": 4,
 "nbformat_minor": 5
}
